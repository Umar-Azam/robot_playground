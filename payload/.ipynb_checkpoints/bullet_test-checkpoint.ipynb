{
 "cells": [
  {
   "cell_type": "code",
   "execution_count": 1,
   "id": "a28543fc-0000-4f6f-9fef-ef2b87448d3c",
   "metadata": {},
   "outputs": [
    {
     "name": "stderr",
     "output_type": "stream",
     "text": [
      "pybullet build time: Nov 28 2023 23:45:17\n"
     ]
    }
   ],
   "source": [
    "# %%\n",
    "\n",
    "import pybullet as p\n",
    "import pybullet_data\n",
    "import time\n",
    "\n",
    "\n",
    "\n"
   ]
  },
  {
   "cell_type": "code",
   "execution_count": null,
   "id": "ce916b42-664e-40b4-b80c-2578128d263d",
   "metadata": {},
   "outputs": [],
   "source": [
    "# %%\n",
    "# Initialize PyBullet simulation\n",
    "p.connect(p.GUI)\n",
    "\n",
    "\n",
    "\n",
    "p.setGravity(0, 0, -10)\n",
    "p.setAdditionalSearchPath(pybullet_data.getDataPath())\n"
   ]
  },
  {
   "cell_type": "code",
   "execution_count": null,
   "id": "6d5a06af-77d1-4e88-98b7-5c33d56559ec",
   "metadata": {},
   "outputs": [],
   "source": [
    "# Add ground plane\n",
    "planeId = p.loadURDF(\"plane.urdf\")\n",
    "\n",
    "# Function to create a simple forklift model\n",
    "def create_forklift(position):\n",
    "    forklift_shape = p.createCollisionShape(p.GEOM_BOX, halfExtents=[1, 0.5, 0.5])\n",
    "    forklift_body = p.createMultiBody(baseMass=1000, baseCollisionShapeIndex=forklift_shape, basePosition=position)\n",
    "    return forklift_body\n",
    "\n",
    "# Function to create payloads with variable parameters\n",
    "def create_payload(position, dimensions, mass):\n",
    "    payload_shape = p.createCollisionShape(p.GEOM_BOX, halfExtents=dimensions)\n",
    "    payload_body = p.createMultiBody(baseMass=mass, baseCollisionShapeIndex=payload_shape, basePosition=position)\n",
    "    return payload_body\n",
    "\n",
    "# Create a simple forklift and a payload\n",
    "forklift = create_forklift([0, 0, 1])\n",
    "payload = create_payload([0, 0, 2], [0.5, 0.5, 0.5], 50)\n",
    "\n",
    "# Run the simulation for a short period\n",
    "for _ in range(1000):\n",
    "    p.stepSimulation()\n",
    "    time.sleep(1./240.)\n",
    "\n",
    "p.disconnect()\n",
    "# %%"
   ]
  }
 ],
 "metadata": {
  "kernelspec": {
   "display_name": "Python 3 (ipykernel)",
   "language": "python",
   "name": "python3"
  },
  "language_info": {
   "codemirror_mode": {
    "name": "ipython",
    "version": 3
   },
   "file_extension": ".py",
   "mimetype": "text/x-python",
   "name": "python",
   "nbconvert_exporter": "python",
   "pygments_lexer": "ipython3",
   "version": "3.10.14"
  }
 },
 "nbformat": 4,
 "nbformat_minor": 5
}
